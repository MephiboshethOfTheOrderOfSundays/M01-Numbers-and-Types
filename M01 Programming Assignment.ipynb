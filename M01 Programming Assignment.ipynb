{
 "cells": [
  {
   "cell_type": "markdown",
   "id": "2a913e7b",
   "metadata": {},
   "source": [
    "# 3.1"
   ]
  },
  {
   "cell_type": "code",
   "execution_count": 8,
   "id": "98b08224",
   "metadata": {},
   "outputs": [
    {
     "data": {
      "text/plain": [
       "3600"
      ]
     },
     "execution_count": 8,
     "metadata": {},
     "output_type": "execute_result"
    }
   ],
   "source": [
    "seconds_per_minute = 60\n",
    "minutes_per_hour = 60\n",
    "seconds_per_minute * minutes_per_hour\n"
   ]
  },
  {
   "cell_type": "markdown",
   "id": "253a8edd",
   "metadata": {},
   "source": [
    "# 3.2"
   ]
  },
  {
   "cell_type": "code",
   "execution_count": 9,
   "id": "d8b6face",
   "metadata": {},
   "outputs": [],
   "source": [
    "seconds_per_hour = Out[1]"
   ]
  },
  {
   "cell_type": "markdown",
   "id": "74645654",
   "metadata": {},
   "source": [
    "# 3.3"
   ]
  },
  {
   "cell_type": "markdown",
   "id": "787ea202",
   "metadata": {},
   "source": [
    "###### Calculating number of seconds per day"
   ]
  },
  {
   "cell_type": "code",
   "execution_count": 10,
   "id": "12e29165",
   "metadata": {},
   "outputs": [
    {
     "data": {
      "text/plain": [
       "86400"
      ]
     },
     "execution_count": 10,
     "metadata": {},
     "output_type": "execute_result"
    }
   ],
   "source": [
    "24*seconds_per_hour"
   ]
  },
  {
   "cell_type": "markdown",
   "id": "b08bb70b",
   "metadata": {},
   "source": [
    "# 3.4"
   ]
  },
  {
   "cell_type": "code",
   "execution_count": 11,
   "id": "8c353583",
   "metadata": {},
   "outputs": [],
   "source": [
    "seconds_per_day=24*seconds_per_hour"
   ]
  },
  {
   "cell_type": "markdown",
   "id": "fa09b7bb",
   "metadata": {},
   "source": [
    "# 3.5"
   ]
  },
  {
   "cell_type": "markdown",
   "id": "8cb31756",
   "metadata": {},
   "source": [
    "###### Floating-point division"
   ]
  },
  {
   "cell_type": "code",
   "execution_count": 12,
   "id": "fee11cad",
   "metadata": {
    "scrolled": false
   },
   "outputs": [
    {
     "data": {
      "text/plain": [
       "24.0"
      ]
     },
     "execution_count": 12,
     "metadata": {},
     "output_type": "execute_result"
    }
   ],
   "source": [
    "seconds_per_day/seconds_per_hour"
   ]
  },
  {
   "cell_type": "markdown",
   "id": "8f13a17f",
   "metadata": {},
   "source": [
    "# 3.6"
   ]
  },
  {
   "cell_type": "markdown",
   "id": "931c9c05",
   "metadata": {},
   "source": [
    "###### Integer division"
   ]
  },
  {
   "cell_type": "code",
   "execution_count": 13,
   "id": "851f8258",
   "metadata": {},
   "outputs": [
    {
     "data": {
      "text/plain": [
       "24"
      ]
     },
     "execution_count": 13,
     "metadata": {},
     "output_type": "execute_result"
    }
   ],
   "source": [
    "seconds_per_day//seconds_per_hour"
   ]
  },
  {
   "cell_type": "markdown",
   "id": "12c832f5",
   "metadata": {},
   "source": [
    "###### Aside from the final .0, this number agrees with the previous question's floating-point value."
   ]
  }
 ],
 "metadata": {
  "kernelspec": {
   "display_name": "Python 3 (ipykernel)",
   "language": "python",
   "name": "python3"
  },
  "language_info": {
   "codemirror_mode": {
    "name": "ipython",
    "version": 3
   },
   "file_extension": ".py",
   "mimetype": "text/x-python",
   "name": "python",
   "nbconvert_exporter": "python",
   "pygments_lexer": "ipython3",
   "version": "3.10.9"
  }
 },
 "nbformat": 4,
 "nbformat_minor": 5
}
